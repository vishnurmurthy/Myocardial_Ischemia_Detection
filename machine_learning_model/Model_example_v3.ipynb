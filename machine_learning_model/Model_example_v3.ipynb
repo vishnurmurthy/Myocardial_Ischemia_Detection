{
 "cells": [
  {
   "cell_type": "code",
   "execution_count": null,
   "metadata": {
    "colab": {
     "base_uri": "https://localhost:8080/",
     "height": 34
    },
    "colab_type": "code",
    "collapsed": true,
    "id": "xQoWwsl-bsyv",
    "outputId": "bbc2a228-d850-4acc-adfc-521b61227907",
    "scrolled": true
   },
   "outputs": [],
   "source": [
    "import numpy as np\n",
    "import math\n",
    "import os\n",
    "import pandas as pd\n",
    "\n",
    "import random\n",
    "import tensorflow\n",
    "import keras\n",
    "from sklearn import metrics\n",
    "#!pip install peakutils\n",
    "#import peakutils\n",
    "from sklearn.utils import shuffle\n",
    "import tensorflow as tf\n",
    "from scipy.interpolate import *\n",
    "from scipy.signal import *\n",
    "from sklearn.model_selection import train_test_split\n",
    "from keras import Sequential\n",
    "from keras.layers import Dense\n",
    "from keras.layers import Flatten\n",
    "from keras.layers import GaussianDropout\n",
    "from keras.layers import Conv2D\n",
    "from keras.layers import Conv1D\n",
    "from keras.layers import MaxPool1D\n",
    "from keras.layers import GlobalMaxpooling1D\n",
    "from keras.layers import Dropout\n",
    "from keras.layers import MaxPool2D\n",
    "from keras.optimizers import SGD"
   ]
  },
  {
   "cell_type": "code",
   "execution_count": null,
   "metadata": {
    "colab": {
     "base_uri": "https://localhost:8080/",
     "height": 204
    },
    "colab_type": "code",
    "collapsed": true,
    "id": "RRudCVACbsy3",
    "outputId": "4650779c-d025-474a-951e-61bed13c2659"
   },
   "outputs": [],
   "source": [
    "large_data = pd.DataFrame({\"Signal\":[], \"Label\":[]})\n",
    "large_data\n",
    "\n",
    "datafiles = ['s20011.xz','s20131.xz','s20251.xz','s20341.xz','s20471.xz','s20591.xz','s30721.xz','s20021.xz','s20141.xz',\n",
    "'s20351.xz','s20481.xz','s20601.xz','s30731.xz','s20031.xz','s20151.xz','s20271.xz','s20361.xz','s20491.xz','s20621.xz',\n",
    "'s20272.xz','s20371.xz','s20501.xz','s20431.xz','s20551.xz','s20181.xz','s30661.xz','s20301.xz','s20231.xz','s20321.xz',\n",
    "'s20631.xz','s30741.xz','s20051.xz','s20171.xz','s20273.xz','s20381.xz','s20511.xz','s20641.xz','s30742.xz','s20061.xz',\n",
    "'s20274.xz','s20391.xz','s20521.xz','s20651.xz','s30751.xz','s20071.xz','s20191.xz','s20281.xz','s20401.xz','s20531.xz',\n",
    "'s30752.xz','s20081.xz','s20201.xz','s20291.xz','s20411.xz','s20541.xz','s30671.xz','s30761.xz','s20091.xz','s20211.xz',\n",
    "'s30681.xz','s30771.xz','s20101.xz','s20221.xz','s20311.xz','s20441.xz','s20561.xz','s30691.xz','s30781.xz','s20111.xz',\n",
    "'s20451.xz','s20571.xz','s30701.xz','s30791.xz','s20121.xz','s20241.xz','s20331.xz','s20461.xz','s20581.xz','s30711.xz', \n",
    "'s30732.xz','s20041.xz','s20161.xz','s30801.xz', 's20261.xz',]\n",
    "\n",
    "os.chdir('../processed_data')\n",
    "for i in datafiles:\n",
    "\tdat = pd.read_pickle(i)\n",
    "\tfor count, signal in enumerate(dat['Signal']):\n",
    "\t\tdat['Signal'][count] = dat['Signal'][count] - np.mean(dat['Signal'][count])\n",
    "\t\tdat['Signal'][count] = dat['Signal'][count] / np.std(dat['Signal'][count])\n",
    "\tprint(i)\n",
    "\tlarge_data = large_data.append(dat)\n",
    "os.chdir('../')"
   ]
  },
  {
   "cell_type": "code",
   "execution_count": null,
   "metadata": {
    "colab": {
     "base_uri": "https://localhost:8080/",
     "height": 3143
    },
    "colab_type": "code",
    "collapsed": true,
    "id": "F3e9rm5Qbsy_",
    "outputId": "4f75f866-dbd1-4cb0-cba4-d14618e14269"
   },
   "outputs": [],
   "source": [
    "large_data = large_data[large_data.Label != 'scct'] #dropping rows with shifts, we are not classifying\n",
    "large_data = large_data[large_data.Label != 'sst']\n",
    "\n",
    "large_data['Label'] = large_data['Label'].map({'st': 0, 'rtst': 1, 'normal': 2})\n",
    "\n",
    "print(\"# of data rows for ST: \", len(large_data.loc[large_data['Label'] == 0]))\n",
    "print(\"# of data rows for RTST: \", len(large_data.loc[large_data['Label'] == 1]))\n",
    "print(\"# of data rows for Normal: \", len(large_data.loc[large_data['Label'] == 2]))\n",
    "\n",
    "newx = 0\n",
    "for i in large_data['Signal']:\n",
    "\tif len(i)!= 250:\n",
    "\t\tprint(len(i))\n",
    "\t\tnewx+=1\n",
    "print(\"nx\", newx)\n",
    "\n",
    "#convert to ints\n",
    "\n",
    "large_data['Label'] = large_data['Label'].astype('category').cat.codes\n",
    "\n",
    "#randomly shuffle dataframe\n",
    "\n",
    "large_data = large_data.sample(frac=1).reset_index(drop=True)"
   ]
  },
  {
   "cell_type": "code",
   "execution_count": null,
   "metadata": {
    "colab": {},
    "colab_type": "code",
    "collapsed": true,
    "id": "B5Nirr80bszL"
   },
   "outputs": [],
   "source": [
    "y = large_data['Label'].values\n",
    "X = []\n",
    "for i in large_data['Signal']:\n",
    "    X.append(i)\n",
    "X = np.array(X)\n",
    "\n",
    "print(\"Y\")\n",
    "print(y.shape)\n",
    "print(\"X\")\n",
    "print(X.shape)"
   ]
  },
  {
   "cell_type": "code",
   "execution_count": null,
   "metadata": {
    "colab": {},
    "colab_type": "code",
    "collapsed": true,
    "id": "5X2YM4vybszQ",
    "outputId": "69c5a131-7fcc-4466-9316-993b1ebbce10"
   },
   "outputs": [],
   "source": [
    "X_train, X_val, y_train, y_val = train_test_split(X, y, test_size = 0.2)\n",
    "\n",
    "y_train = keras.utils.to_categorical(y_train, 3)\n",
    "y_val = keras.utils.to_categorical(y_val, 3)\n",
    "\n",
    "\n",
    "y_train = y_train.astype('float64')#.reshape((y_train.shape[0], y_train.shape[1], 1))\n",
    "y_val = y_val.astype('float64')#.reshape((y_val.shape[0], y_val.shape[1], 1))\n",
    "X_train = X_train.astype('float64').reshape((X_train.shape[0], X_val.shape[1], 1))\n",
    "X_val = X_val.astype('float64').reshape((X_val.shape[0], X_val.shape[1], 1))\n",
    "\n",
    "print(\"Training\")\n",
    "print(X_train.shape, y_train.shape)\n",
    "print(\"Validation\")\n",
    "print(X_val.shape, y_val.shape)"
   ]
  },
  {
   "cell_type": "code",
   "execution_count": null,
   "metadata": {
    "colab": {},
    "colab_type": "code",
    "collapsed": true,
    "id": "fGcHKtTYbszY",
    "outputId": "9b236bb1-b305-4be1-a509-02ac38dd4c14"
   },
   "outputs": [],
   "source": [
    "print(X_train[0].shape)\n",
    "\n",
    "model = keras.models.Sequential()\n",
    "model.add(Conv1D(filters=128, kernel_size=3, strides=1, padding='same', activation='relu', input_shape=X_train[0].shape))\n",
    "model.add(MaxPool1D(pool_size=3, padding='valid'))model.add(MaxPool1D(pool_size=3, padding='valid'))\n",
    "model.add(GlobalMaxPooling1D(pool_size=3, padding='valid'))\n",
    "model.add(Flatten())\n",
    "model.add(Flatten())\n",
    "model.add(Flatten())\n",
    "model.add(Dense(y_train.shape[1], activation='softmax'))\n",
    "\n",
    "model.compile(loss='categorical_crossentropy', optimizer='rmsprop', metrics=['accuracy'])\n",
    "model.summary()\n"
   ]
  },
  {
   "cell_type": "code",
   "execution_count": null,
   "metadata": {
    "colab": {},
    "colab_type": "code",
    "collapsed": true,
    "id": "5uF-5ZYcbszq"
   },
   "outputs": [],
   "source": [
    "print(y_train.shape)"
   ]
  },
  {
   "cell_type": "code",
   "execution_count": null,
   "metadata": {
    "colab": {},
    "colab_type": "code",
    "collapsed": true,
    "id": "P-7tjyK0bszv",
    "outputId": "c1e60a86-210a-4cde-96a2-29ac86088391"
   },
   "outputs": [],
   "source": [
    "print(y_train.shape)\n",
    "model.fit(X_train, y_train, epochs= 12, batch_size= 2, validation_data=(X_val, y_val), verbose=1)\n"
   ]
  },
  {
   "cell_type": "code",
   "execution_count": null,
   "metadata": {
    "colab": {},
    "colab_type": "code",
    "collapsed": true,
    "id": "K9jkuOU_bsz3"
   },
   "outputs": [],
   "source": [
    "#Save the model\n",
    "\n",
    "model.save(\"BWSI2018model_v3_1.h5\")\n",
    "\n",
    "model.save_weights('BWSI2018model_v3_1_weights.h5')\n",
    "\n",
    "with open('BWSI2018model_architecture.json', 'w') as f:\n",
    "    f.write(model.to_json())"
   ]
  }
 ],
 "metadata": {
  "colab": {
   "name": "Model_example_v3.ipynb",
   "provenance": [],
   "version": "0.3.2"
  },
  "kernelspec": {
   "display_name": "Python 3",
   "language": "python",
   "name": "python3"
  },
  "language_info": {
   "codemirror_mode": {
    "name": "ipython",
    "version": 3
   },
   "file_extension": ".py",
   "mimetype": "text/x-python",
   "name": "python",
   "nbconvert_exporter": "python",
   "pygments_lexer": "ipython3",
   "version": "3.6.3"
  }
 },
 "nbformat": 4,
 "nbformat_minor": 1
}
